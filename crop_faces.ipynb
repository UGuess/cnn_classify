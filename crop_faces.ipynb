{
 "cells": [
  {
   "cell_type": "code",
   "execution_count": 1,
   "metadata": {},
   "outputs": [],
   "source": [
    "import os\n",
    "import face_recognition\n",
    "from PIL import Image"
   ]
  },
  {
   "cell_type": "code",
   "execution_count": 2,
   "metadata": {},
   "outputs": [
    {
     "data": {
      "text/plain": [
       "'E:/celeA/'"
      ]
     },
     "execution_count": 2,
     "metadata": {},
     "output_type": "execute_result"
    }
   ],
   "source": [
    "path = r'E:/celeA/'\n",
    "path"
   ]
  },
  {
   "cell_type": "code",
   "execution_count": 3,
   "metadata": {},
   "outputs": [],
   "source": [
    "list = os.listdir(path+\"hasGlass\")\n",
    "for i in range(5000):\n",
    "    f = list[i]\n",
    "    img = face_recognition.load_image_file(path+\"hasGlass/\"+f)\n",
    "    face_locations = face_recognition.face_locations(img)\n",
    "    \n",
    "    for face_location in face_locations:\n",
    "        top,right,bottom,left = face_location\n",
    "        width = right-left\n",
    "        height = bottom-top\n",
    "        \n",
    "        if(width>height):\n",
    "            right -= (width-height)\n",
    "        elif(height>width):\n",
    "            bottom -= (height-width)\n",
    "        \n",
    "    face_image = img[top:bottom,left:right]\n",
    "    pil_image = Image.fromarray(face_image)\n",
    "    pil_image.save(path+\"has/%s\"%f)"
   ]
  },
  {
   "cell_type": "code",
   "execution_count": 5,
   "metadata": {},
   "outputs": [],
   "source": [
    "list = os.listdir(path+\"noGlass\")\n",
    "for i in range(5000):\n",
    "    f = list[i]\n",
    "    img = face_recognition.load_image_file(path+\"noGlass/\"+f)\n",
    "    face_locations = face_recognition.face_locations(img)\n",
    "    \n",
    "    for face_location in face_locations:\n",
    "        top,right,bottom,left = face_location\n",
    "        width = right-left\n",
    "        height = bottom-top\n",
    "        \n",
    "        if(width>height):\n",
    "            right -= (width-height)\n",
    "        elif(height>width):\n",
    "            bottom -= (height-width)\n",
    "        \n",
    "    face_image = img[top:bottom,left:right]\n",
    "    pil_image = Image.fromarray(face_image)\n",
    "    pil_image.save(path+\"no/%s\"%f)"
   ]
  },
  {
   "cell_type": "code",
   "execution_count": 17,
   "metadata": {},
   "outputs": [
    {
     "data": {
      "text/plain": [
       "'E:/celeA/croped/ooo.jpg'"
      ]
     },
     "execution_count": 17,
     "metadata": {},
     "output_type": "execute_result"
    }
   ],
   "source": [
    "# 文件路径\n",
    "ff='ooo.jpg'\n",
    "path+\"croped/%s\"%ff"
   ]
  },
  {
   "cell_type": "code",
   "execution_count": null,
   "metadata": {},
   "outputs": [],
   "source": []
  }
 ],
 "metadata": {
  "kernelspec": {
   "display_name": "Python 3",
   "language": "python",
   "name": "python3"
  },
  "language_info": {
   "codemirror_mode": {
    "name": "ipython",
    "version": 3
   },
   "file_extension": ".py",
   "mimetype": "text/x-python",
   "name": "python",
   "nbconvert_exporter": "python",
   "pygments_lexer": "ipython3",
   "version": "3.6.4"
  }
 },
 "nbformat": 4,
 "nbformat_minor": 2
}
